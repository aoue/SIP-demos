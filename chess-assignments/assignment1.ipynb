{
 "cells": [
  {
   "cell_type": "markdown",
   "metadata": {
    "id": "GWCPCDvGW_cm"
   },
   "source": [
    "# Assignment 1\n",
    "\n",
    "\n",
    "You must submit your notebook by running `python3 -m autograder.cli.submission.submit Assignment1.ipynb` from your local repository.\n",
    "\n",
    "To write legible answers you will need to be familiar with both [Markdown](https://github.com/adam-p/markdown-here/wiki/Markdown-Cheatsheet) and [Latex](https://www.latex-tutorial.com/tutorials/amsmath/)\n",
    "\n",
    "Before you turn this problem in, make sure everything runs as expected. To do so, restart the kernel and run all cells (in the menubar, select Runtime→→Restart and run all).\n",
    "#### Show your work!\n",
    "Whenever you are asked to find the solution to a problem, be sure to also **show how you arrived** at your answer.\n",
    "\n",
    "Make sure you fill in any place that says \"YOUR CODE HERE\" or \"YOUR ANSWERS HERE\", as well as your name below:\n"
   ]
  },
  {
   "cell_type": "markdown",
   "metadata": {
    "id": "Hc-OUgRxWIPM"
   },
   "source": [
    "## Q1\n",
    "\n",
    "![figure](https://docs.google.com/drawings/d/e/2PACX-1vR3cNeZWfHNbPXRGyZrKazhI2WNM9wroJoAsshbD7LzwEBd4k0W_zu-T30_O_4iHC2qpKRxCRBA1IjV/pub?w=480&h=320)\n",
    "\n",
    "Which solution would the following search algorithms find to move from node *Start* to node *Goal* if run the algorithm on the search graph above? Break any ties alphabetically.\n",
    "\n",
    "a. Breadth-First Search\n",
    "\n",
    "b. Depth-First Search\n",
    "\n",
    "c. Uniform Cost Search\n",
    "\n",
    "Explain by drawing an equivalent search tree for each of them. Draw the search trees graphically. A good way to do this is through [Google Drawings](https://docs.google.com/drawings)"
   ]
  },
  {
   "cell_type": "code",
   "execution_count": 1,
   "metadata": {},
   "outputs": [],
   "source": [
    "# YOUR ANSWERS HERE\n",
    "def question1():\n",
    "    \"\"\"\n",
    "    Description:\n",
    "    [Enter a description of what you did here.]\n",
    "    \"\"\"\n",
    "    start = 'Start'\n",
    "    goal = 'Goal'\n",
    "    \n",
    "    a = None \n",
    "    b = None\n",
    "    c = None\n",
    "    \n",
    "    return a, b, c"
   ]
  },
  {
   "cell_type": "markdown",
   "metadata": {
    "id": "2cCZFudXW_cp"
   },
   "source": [
    "## Q2\n",
    "Answer the following questions about the search problem shown in the figure below. Break any ties alphabetically. For the questions that ask for a path, please give your answers in a form similar to this example: `[start, 'a', 'd', goal]`\n",
    "\n",
    "Start − a − d − Goal\n",
    "\n",
    "![figure](https://docs.google.com/drawings/d/e/2PACX-1vS4nUoOVGzXNZTHZLsY6wZ6VyjtPlA4mhcvWs-6mgwaeDwoMftqbYyytgBVmgOnqLoUGZbRt8cuQNfA/pub?w=640&h=480)\n",
    "\n",
    "What path would be returned for this search problem using each of the following graph search algorithms?\n",
    "\n",
    "a. Breadth-First Search\n",
    "\n",
    "b. Uniform Cost Search\n",
    "\n",
    "c. Depth-First Search\n",
    "\n",
    "d. A* Search (using an appropriate heuristic function). Explain what heuristc function you used.\n",
    "\n",
    "\n",
    "\n",
    "Consider the heuristics for this problem shown in the table below.\n",
    "\n",
    "|     State     |     h1     |     h2        |\n",
    "|---------------|------------|---------------|\n",
    "|     start     |     5      |     4         |\n",
    "|     a         |     3      |     2         |\n",
    "|     b         |     6      |     6         |\n",
    "|     c         |     2      |     1         |\n",
    "|     d         |     3      |     3         |\n",
    "|     goal      |     0      |     0         |\n",
    "\n",
    "\n",
    "e. Is h1 consistent?\n",
    "\n",
    "f. Is h2 consistent?"
   ]
  },
  {
   "cell_type": "code",
   "execution_count": 2,
   "metadata": {},
   "outputs": [],
   "source": [
    "# YOUR ANSWERS HERE\n",
    "def question2():\n",
    "    \"\"\"\n",
    "    Description:\n",
    "    [Enter a description of what you did here.]\n",
    "    \"\"\"\n",
    "    start = 'Start'\n",
    "    goal = 'Goal'\n",
    "    \n",
    "    a = None \n",
    "    b = None\n",
    "    c = None\n",
    "    d = None\n",
    "    e = None\n",
    "    f = None\n",
    "    \n",
    "    return a, b, c, d, e, f"
   ]
  },
  {
   "cell_type": "markdown",
   "metadata": {
    "id": "_uecj_VM0l1a"
   },
   "source": [
    "## Q3\n",
    "\n",
    "TODO: Start putting chess stuff here...\n",
    "\n",
    "Basic chess search problem: move a knight from A1 to H8"
   ]
  },
  {
   "cell_type": "code",
   "execution_count": 1,
   "metadata": {},
   "outputs": [],
   "source": [
    "import chess"
   ]
  },
  {
   "cell_type": "code",
   "execution_count": 4,
   "metadata": {},
   "outputs": [],
   "source": [
    "def goal(b:chess.Board):\n",
    "    p = b.piece_at(chess.H8)\n",
    "    return p.piece_type == chess.KNIGHT and p.color == chess.WHITE\n",
    "\n",
    "# Right now this returns a Board which represents the final state\n",
    "# Have them return a list of all visited nodes?\n",
    "def DFS(b:chess.Board):\n",
    "    frontier = [b]\n",
    "    visited = [chess.A1]\n",
    "    while frontier:\n",
    "        current = frontier.pop()\n",
    "        if current.move_stack:\n",
    "            visited.append(current.move_stack[-1].to_square)\n",
    "        if goal(current):\n",
    "            return current\n",
    "        for m in current.legal_moves:\n",
    "            if m.to_square in visited:\n",
    "                continue\n",
    "            n = current.copy()\n",
    "            n.push(m)\n",
    "            n.turn = chess.WHITE\n",
    "            frontier.append(n)\n",
    "    return None\n",
    "\n",
    "def BFS(b:chess.Board):\n",
    "    frontier = [b]\n",
    "    visited = [chess.A1]\n",
    "    while frontier:\n",
    "        current = frontier.pop(0) # The only difference\n",
    "        if current.move_stack:\n",
    "            visited.append(current.move_stack[-1].to_square)\n",
    "        if goal(current):\n",
    "            return current\n",
    "        for m in current.legal_moves:\n",
    "            if m.to_square in visited:\n",
    "                continue\n",
    "            n = current.copy()\n",
    "            n.push(m)\n",
    "            n.turn = chess.WHITE\n",
    "            frontier.append(n)\n",
    "    return None"
   ]
  },
  {
   "cell_type": "markdown",
   "metadata": {
    "id": "LM0yg5nnW_cx"
   },
   "source": [
    "## Q4\n",
    "\n",
    "Implement the **A* Search** (Textbook Section 3.5.2) algorithm.\n",
    "\n",
    "#### A* Search\n",
    "---\n",
    "The most widely known form of best-first search is called **A∗ search** (pronounced \"A-star search\"). It evaluates nodes by combining $g(n)$, the cost to reach the node, and $h(n)$, the cost to get from the node to the goal:\n",
    "\n",
    "\\begin{equation*}\n",
    "f(n) = g(n) + h(n) .\n",
    "\\end{equation*}\n",
    "\n",
    "Since $g(n)$ gives the path cost from the start node to node $n$, and $h(n)$ is the estimated cost of the cheapest path from n to the goal, we have\n",
    "\n",
    "\n",
    "$f(n)$= estimated cost of the cheapest solution through $n$ .\n",
    "\n",
    "**NOTE:**\n",
    "- If two nodes are considered equally good choices, take the node with the lower ID first.\n"
   ]
  },
  {
   "cell_type": "code",
   "execution_count": 8,
   "metadata": {},
   "outputs": [],
   "source": [
    "def a_star_search(starting_node, goal_node):\n",
    "    \"\"\"\n",
    "    This function implements the A* search algorithm\n",
    "    \n",
    "    Parameters:\n",
    "    - starting_node: The entry node into the graph\n",
    "    - goal_node: The integer ID of the goal node.\n",
    "    \n",
    "    Returns:\n",
    "    A list containing the visited node ids in order they were visited with starting node\n",
    "    always being the first node and the goal node always being the last\n",
    "    \"\"\"\n",
    "    visited_nodes_in_order = []\n",
    "    \n",
    "    # YOUR CODE HERE\n",
    "    raise NotImplementedError()\n",
    "    \n",
    "    return visited_nodes_in_order"
   ]
  },
  {
   "cell_type": "markdown",
   "metadata": {},
   "source": [
    "Possible Q4: Move from a start square to an end square, capturing as few pieces as possible to minimize value. Reminiscent of shortest path problems. Still need a heuristic for this. "
   ]
  },
  {
   "cell_type": "code",
   "execution_count": null,
   "metadata": {},
   "outputs": [],
   "source": [
    "# Board2 class which keeps track of captured pieces and points\n",
    "# Instead of making a subclass, may be better to use an internal Board\n",
    "# This would prevent the use of superclass functions that don't know about the points \n",
    "class Board2(chess.Board):\n",
    "    # Not standard, but this is for testing purposes\n",
    "    point_map = {\n",
    "        chess.PAWN : 1,\n",
    "        chess.ROOK : 2,\n",
    "        chess.KNIGHT : 3,\n",
    "        chess.BISHOP : 4,\n",
    "        chess.QUEEN : 5,\n",
    "        chess.KING : 6,\n",
    "    }\n",
    "    def __init__(self, fen=None):\n",
    "        super().__init__(fen)\n",
    "        self._points = 0\n",
    "    \n",
    "    @property\n",
    "    def points(self):\n",
    "        return self._points\n",
    "    \n",
    "    def push(self, move:chess.Move):\n",
    "        p = self.piece_at(move.to_square)\n",
    "        super().push(move)\n",
    "        if p:\n",
    "            self._points += self.point_map[p.piece_type]\n",
    "\n",
    "    def copy(self):\n",
    "        new = super().copy()\n",
    "        new._points = self._points\n",
    "        return new\n",
    "\n",
    "# Placeholder\n",
    "def heuristic(b):\n",
    "    return 0\n",
    "\n",
    "# Placeholder UCS since it doesn't need a heuristic\n",
    "def UCS(b: Board2):\n",
    "    frontier = [(b, 0)]\n",
    "    visited = [chess.A1]\n",
    "    while frontier:\n",
    "        current = frontier.pop(0)[0]\n",
    "        if current.move_stack:\n",
    "            visited.append(current.move_stack[-1].to_square)\n",
    "        if goal(current):\n",
    "            return current\n",
    "        for m in current.legal_moves:\n",
    "            if m.to_square in visited:\n",
    "                continue\n",
    "            n = current.copy()\n",
    "            n.push(m)\n",
    "            n.turn = chess.WHITE\n",
    "\n",
    "            next_piece = current.piece_at(m.to_square)\n",
    "            cost = Board2.point_map[next_piece.piece_type] if next_piece else 0\n",
    "            cost += current.points\n",
    "            # To turn this into A*, uncomment the following\n",
    "            # cost += heuristic(n) - heuristic(current)\n",
    "\n",
    "            for i, (old_board, old_cost) in enumerate(frontier):\n",
    "                if old_board.move_stack[-1].to_square == m.to_square:\n",
    "                    if cost < old_cost:\n",
    "                        frontier.pop(i)\n",
    "                        frontier.append((n, cost))\n",
    "                    break\n",
    "            else:\n",
    "                frontier.append((n, cost))\n",
    "            # There are better ways to do this, but this works for now\n",
    "            frontier.sort(key=lambda x: x[1])\n",
    "    return None"
   ]
  },
  {
   "cell_type": "markdown",
   "metadata": {},
   "source": [
    "### Misc utilities\n",
    "\n",
    "Some extra helpful functions for testing"
   ]
  },
  {
   "cell_type": "code",
   "execution_count": null,
   "metadata": {},
   "outputs": [],
   "source": [
    "import time\n",
    "from IPython.display import display\n",
    "import random\n",
    "\n",
    "def visualize(b:chess.Board, fen:str | None, delay:float = 0.5):\n",
    "    start = chess.Board(fen)\n",
    "    display(start)\n",
    "    for m in b.move_stack:\n",
    "        time.sleep(delay)\n",
    "        clear_output(True)\n",
    "        start.push(m)\n",
    "        start.turn = chess.WHITE\n",
    "        display(start)\n",
    "\n",
    "all_pieces = list(chess.PIECE_TYPES)\n",
    "\n",
    "def random_board(seed, prob):\n",
    "    random.seed(seed)\n",
    "    b = chess.Board(None)\n",
    "    for i in chess.SQUARES:\n",
    "        if random.random() < prob:\n",
    "            p = random.choice(all_pieces)\n",
    "            b.set_piece_at(i, chess.Piece(p, chess.BLACK))\n",
    "    b.set_piece_at(chess.A1, chess.Piece(chess.KNIGHT, chess.WHITE))\n",
    "    return b"
   ]
  }
 ],
 "metadata": {
  "colab": {
   "collapsed_sections": [
    "Hc-OUgRxWIPM"
   ],
   "provenance": []
  },
  "kernelspec": {
   "display_name": "Python 3 (ipykernel)",
   "language": "python",
   "name": "python3"
  },
  "language_info": {
   "codemirror_mode": {
    "name": "ipython",
    "version": 3
   },
   "file_extension": ".py",
   "mimetype": "text/x-python",
   "name": "python",
   "nbconvert_exporter": "python",
   "pygments_lexer": "ipython3",
   "version": "3.10.12"
  }
 },
 "nbformat": 4,
 "nbformat_minor": 1
}
