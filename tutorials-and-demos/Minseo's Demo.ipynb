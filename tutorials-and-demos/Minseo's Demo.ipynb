{
 "cells": [
  {
   "cell_type": "markdown",
   "metadata": {},
   "source": [
    "Markdown Cell\n",
    "* https://jupyter.brynmawr.edu/services/public/dblank/CS371%20Cognitive%20Science/2016-Fall/Programming%20a%20Chess%20Player.ipynb\n",
    "* https://python-chess.readthedocs.io/en/latest/"
   ]
  },
  {
   "cell_type": "code",
   "execution_count": 2,
   "metadata": {},
   "outputs": [
    {
     "name": "stdout",
     "output_type": "stream",
     "text": [
      "hello world\n"
     ]
    }
   ],
   "source": [
    "\"\"\"\n",
    "Python cell\n",
    "\"\"\"\n",
    "print(\"hello world\")"
   ]
  },
  {
   "cell_type": "code",
   "execution_count": 9,
   "metadata": {},
   "outputs": [
    {
     "name": "stdout",
     "output_type": "stream",
     "text": [
      "r n b q k b n r\n",
      "p p p p p p p p\n",
      ". . . . . . . .\n",
      ". . . . . . . .\n",
      ". . . . . . . .\n",
      ". . . . . . . .\n",
      "P P P P P P P P\n",
      "R N B Q K B N R\n"
     ]
    }
   ],
   "source": [
    "\n",
    "import chess\n",
    "board = chess.Board()\n",
    "board.turn\n",
    "board.turn = chess.WHITE\n",
    "print(board)"
   ]
  },
  {
   "cell_type": "code",
   "execution_count": 17,
   "metadata": {},
   "outputs": [
    {
     "data": {
      "text/plain": [
       "'Nh3'"
      ]
     },
     "execution_count": 17,
     "metadata": {},
     "output_type": "execute_result"
    }
   ],
   "source": [
    "board.piece_at(chess.C1)\n",
    "\n",
    "list(board.legal_moves)\n",
    "move = list(board.legal_moves)[0]\n",
    "move.uci()\n",
    "board.san(move)"
   ]
  },
  {
   "cell_type": "code",
   "execution_count": 20,
   "metadata": {},
   "outputs": [
    {
     "name": "stdout",
     "output_type": "stream",
     "text": [
      "d2d4\n",
      "e2e3\n",
      "g2g4\n",
      "g2g4\n",
      "e2e4\n",
      "f2f3\n",
      "g1f3\n",
      "g2g4\n",
      "e2e4\n",
      "a2a3\n"
     ]
    }
   ],
   "source": [
    "import random\n",
    "\n",
    "def random_player(board):\n",
    "    move = random.choice(list(board.legal_moves))\n",
    "    return move.uci()\n",
    "\n",
    "random_player(board)\n",
    "\n",
    "for i in range(10):\n",
    "    print(random_player(board))"
   ]
  },
  {
   "cell_type": "code",
   "execution_count": 24,
   "metadata": {},
   "outputs": [
    {
     "ename": "AttributeError",
     "evalue": "'Board' object has no attribute '_repr_svg'",
     "output_type": "error",
     "traceback": [
      "\u001b[0;31m---------------------------------------------------------------------------\u001b[0m",
      "\u001b[0;31mAttributeError\u001b[0m                            Traceback (most recent call last)",
      "Cell \u001b[0;32mIn[24], line 56\u001b[0m\n\u001b[1;32m     53\u001b[0m         \u001b[38;5;28mprint\u001b[39m(msg)\n\u001b[1;32m     54\u001b[0m     \u001b[38;5;28;01mreturn\u001b[39;00m (result, msg, board)\n\u001b[0;32m---> 56\u001b[0m \u001b[43mplay_game\u001b[49m\u001b[43m(\u001b[49m\u001b[43mrandom_player\u001b[49m\u001b[43m,\u001b[49m\u001b[43m \u001b[49m\u001b[43mrandom_player\u001b[49m\u001b[43m)\u001b[49m\n",
      "Cell \u001b[0;32mIn[24], line 28\u001b[0m, in \u001b[0;36mplay_game\u001b[0;34m(player1, player2, visual, pause)\u001b[0m\n\u001b[1;32m     26\u001b[0m name \u001b[38;5;241m=\u001b[39m who(board\u001b[38;5;241m.\u001b[39mturn)\n\u001b[1;32m     27\u001b[0m board\u001b[38;5;241m.\u001b[39mpush_uci(uci)\n\u001b[0;32m---> 28\u001b[0m board_stop \u001b[38;5;241m=\u001b[39m \u001b[43mdisplay_board\u001b[49m\u001b[43m(\u001b[49m\u001b[43mboard\u001b[49m\u001b[43m,\u001b[49m\u001b[43m \u001b[49m\u001b[43muse_svg\u001b[49m\u001b[43m)\u001b[49m\n\u001b[1;32m     29\u001b[0m html \u001b[38;5;241m=\u001b[39m \u001b[38;5;124m\"\u001b[39m\u001b[38;5;124m<b>Move \u001b[39m\u001b[38;5;132;01m%s\u001b[39;00m\u001b[38;5;124m \u001b[39m\u001b[38;5;132;01m%s\u001b[39;00m\u001b[38;5;124m, Play \u001b[39m\u001b[38;5;124m'\u001b[39m\u001b[38;5;132;01m%s\u001b[39;00m\u001b[38;5;124m'\u001b[39m\u001b[38;5;124m:</b><br/>\u001b[39m\u001b[38;5;132;01m%s\u001b[39;00m\u001b[38;5;124m\"\u001b[39m \u001b[38;5;241m%\u001b[39m (\n\u001b[1;32m     30\u001b[0m            \u001b[38;5;28mlen\u001b[39m(board\u001b[38;5;241m.\u001b[39mmove_stack), name, uci, board_stop)\n\u001b[1;32m     31\u001b[0m \u001b[38;5;28;01mif\u001b[39;00m visual \u001b[38;5;129;01mis\u001b[39;00m \u001b[38;5;129;01mnot\u001b[39;00m \u001b[38;5;28;01mNone\u001b[39;00m:\n",
      "Cell \u001b[0;32mIn[24], line 9\u001b[0m, in \u001b[0;36mdisplay_board\u001b[0;34m(board, use_svg)\u001b[0m\n\u001b[1;32m      7\u001b[0m \u001b[38;5;28;01mdef\u001b[39;00m \u001b[38;5;21mdisplay_board\u001b[39m(board, use_svg):\n\u001b[1;32m      8\u001b[0m     \u001b[38;5;28;01mif\u001b[39;00m use_svg:\n\u001b[0;32m----> 9\u001b[0m         \u001b[38;5;28;01mreturn\u001b[39;00m \u001b[43mboard\u001b[49m\u001b[38;5;241;43m.\u001b[39;49m\u001b[43m_repr_svg\u001b[49m()\n\u001b[1;32m     10\u001b[0m     \u001b[38;5;28;01melse\u001b[39;00m:\n\u001b[1;32m     11\u001b[0m         \u001b[38;5;28;01mreturn\u001b[39;00m \u001b[38;5;124m\"\u001b[39m\u001b[38;5;124m<pre>\u001b[39m\u001b[38;5;124m\"\u001b[39m \u001b[38;5;241m+\u001b[39m \u001b[38;5;28mstr\u001b[39m(board) \u001b[38;5;241m+\u001b[39m \u001b[38;5;124m\"\u001b[39m\u001b[38;5;124m</pre>\u001b[39m\u001b[38;5;124m\"\u001b[39m\n",
      "\u001b[0;31mAttributeError\u001b[0m: 'Board' object has no attribute '_repr_svg'"
     ]
    }
   ],
   "source": [
    "import time\n",
    "from IPython.display import display, HTML, clear_output\n",
    "\n",
    "def who(player):\n",
    "    return \"White\" if player == chess.WHITE else \"Black\"\n",
    "\n",
    "def display_board(board, use_svg):\n",
    "    if use_svg:\n",
    "        return board._repr_svg()\n",
    "    else:\n",
    "        return \"<pre>\" + str(board) + \"</pre>\"\n",
    "\n",
    "def play_game(player1, player2, visual=\"svg\", pause=0.1):\n",
    "    \"\"\"\n",
    "    playerN1, player2: functions that takes board, return uci move\n",
    "    visual: \"simple\" | \"svg\" | None\n",
    "    \"\"\"\n",
    "    use_svg = (visual == \"svg\")\n",
    "    board = chess.Board()\n",
    "    try:\n",
    "        while not board.is_game_over(claim_draw=True):\n",
    "            if board.turn == chess.WHITE:\n",
    "                uci = player1(board)\n",
    "            else:\n",
    "                uci = player2(board)\n",
    "            name = who(board.turn)\n",
    "            board.push_uci(uci)\n",
    "            board_stop = display_board(board, use_svg)\n",
    "            html = \"<b>Move %s %s, Play '%s':</b><br/>%s\" % (\n",
    "                       len(board.move_stack), name, uci, board_stop)\n",
    "            if visual is not None:\n",
    "                if visual == \"svg\":\n",
    "                    clear_output(wait=True)\n",
    "                display(HTML(html))\n",
    "                if visual == \"svg\":\n",
    "                    time.sleep(pause)\n",
    "    except KeyboardInterrupt:\n",
    "        msg = \"Game interrupted!\"\n",
    "        return (None, msg, board)\n",
    "    result = None\n",
    "    if board.is_checkmate():\n",
    "        msg = \"checkmate: \" + who(not board.turn) + \" wins!\"\n",
    "        result = not board.turn\n",
    "    elif board.is_stalemate():\n",
    "        msg = \"draw: stalemate\"\n",
    "    elif board.is_fivefold_repetition():\n",
    "        msg = \"draw: 5-fold repetition\"\n",
    "    elif board.is_insufficient_material():\n",
    "        msg = \"draw: insufficient material\"\n",
    "    elif board.can_claim_draw():\n",
    "        msg = \"draw: claim\"\n",
    "    if visual is not None:\n",
    "        print(msg)\n",
    "    return (result, msg, board)\n",
    "\n",
    "play_game(random_player, random_player)"
   ]
  },
  {
   "cell_type": "code",
   "execution_count": 26,
   "metadata": {},
   "outputs": [
    {
     "ename": "AttributeError",
     "evalue": "'Board' object has no attribute '_repr_svg'",
     "output_type": "error",
     "traceback": [
      "\u001b[0;31m---------------------------------------------------------------------------\u001b[0m",
      "\u001b[0;31mAttributeError\u001b[0m                            Traceback (most recent call last)",
      "Cell \u001b[0;32mIn[26], line 19\u001b[0m\n\u001b[1;32m     16\u001b[0m         uci \u001b[38;5;241m=\u001b[39m \u001b[38;5;28;01mNone\u001b[39;00m\n\u001b[1;32m     17\u001b[0m     \u001b[38;5;28;01mreturn\u001b[39;00m uci\n\u001b[0;32m---> 19\u001b[0m \u001b[43mplay_game\u001b[49m\u001b[43m(\u001b[49m\u001b[43mrandom_player\u001b[49m\u001b[43m,\u001b[49m\u001b[43m \u001b[49m\u001b[43mhuman_player\u001b[49m\u001b[43m)\u001b[49m\n",
      "Cell \u001b[0;32mIn[24], line 28\u001b[0m, in \u001b[0;36mplay_game\u001b[0;34m(player1, player2, visual, pause)\u001b[0m\n\u001b[1;32m     26\u001b[0m name \u001b[38;5;241m=\u001b[39m who(board\u001b[38;5;241m.\u001b[39mturn)\n\u001b[1;32m     27\u001b[0m board\u001b[38;5;241m.\u001b[39mpush_uci(uci)\n\u001b[0;32m---> 28\u001b[0m board_stop \u001b[38;5;241m=\u001b[39m \u001b[43mdisplay_board\u001b[49m\u001b[43m(\u001b[49m\u001b[43mboard\u001b[49m\u001b[43m,\u001b[49m\u001b[43m \u001b[49m\u001b[43muse_svg\u001b[49m\u001b[43m)\u001b[49m\n\u001b[1;32m     29\u001b[0m html \u001b[38;5;241m=\u001b[39m \u001b[38;5;124m\"\u001b[39m\u001b[38;5;124m<b>Move \u001b[39m\u001b[38;5;132;01m%s\u001b[39;00m\u001b[38;5;124m \u001b[39m\u001b[38;5;132;01m%s\u001b[39;00m\u001b[38;5;124m, Play \u001b[39m\u001b[38;5;124m'\u001b[39m\u001b[38;5;132;01m%s\u001b[39;00m\u001b[38;5;124m'\u001b[39m\u001b[38;5;124m:</b><br/>\u001b[39m\u001b[38;5;132;01m%s\u001b[39;00m\u001b[38;5;124m\"\u001b[39m \u001b[38;5;241m%\u001b[39m (\n\u001b[1;32m     30\u001b[0m            \u001b[38;5;28mlen\u001b[39m(board\u001b[38;5;241m.\u001b[39mmove_stack), name, uci, board_stop)\n\u001b[1;32m     31\u001b[0m \u001b[38;5;28;01mif\u001b[39;00m visual \u001b[38;5;129;01mis\u001b[39;00m \u001b[38;5;129;01mnot\u001b[39;00m \u001b[38;5;28;01mNone\u001b[39;00m:\n",
      "Cell \u001b[0;32mIn[24], line 9\u001b[0m, in \u001b[0;36mdisplay_board\u001b[0;34m(board, use_svg)\u001b[0m\n\u001b[1;32m      7\u001b[0m \u001b[38;5;28;01mdef\u001b[39;00m \u001b[38;5;21mdisplay_board\u001b[39m(board, use_svg):\n\u001b[1;32m      8\u001b[0m     \u001b[38;5;28;01mif\u001b[39;00m use_svg:\n\u001b[0;32m----> 9\u001b[0m         \u001b[38;5;28;01mreturn\u001b[39;00m \u001b[43mboard\u001b[49m\u001b[38;5;241;43m.\u001b[39;49m\u001b[43m_repr_svg\u001b[49m()\n\u001b[1;32m     10\u001b[0m     \u001b[38;5;28;01melse\u001b[39;00m:\n\u001b[1;32m     11\u001b[0m         \u001b[38;5;28;01mreturn\u001b[39;00m \u001b[38;5;124m\"\u001b[39m\u001b[38;5;124m<pre>\u001b[39m\u001b[38;5;124m\"\u001b[39m \u001b[38;5;241m+\u001b[39m \u001b[38;5;28mstr\u001b[39m(board) \u001b[38;5;241m+\u001b[39m \u001b[38;5;124m\"\u001b[39m\u001b[38;5;124m</pre>\u001b[39m\u001b[38;5;124m\"\u001b[39m\n",
      "\u001b[0;31mAttributeError\u001b[0m: 'Board' object has no attribute '_repr_svg'"
     ]
    }
   ],
   "source": [
    "def human_player(board):\n",
    "    display(board)\n",
    "    uci = get_move(\"%s's move [q to quit]> \" % who(board.turn))\n",
    "    legal_uci_moves = [move.uci() for move in board.legal_moves]\n",
    "    while uci not in legal_uci_moves:\n",
    "        print(\"Legal moves: \" + (\",\".join(sorted(legal_uci_moves))))\n",
    "        uci = get_move(\"%s's move[q to quit]> \" % who(board.turn))\n",
    "    return uci\n",
    "def get_move(prompt):\n",
    "    uci = input(prompt)\n",
    "    if uci and uci[0] == \"q\":\n",
    "        raise KeyboardInterrupt()\n",
    "    try:\n",
    "        chess.Move.from_uci(uci)\n",
    "    except:\n",
    "        uci = None\n",
    "    return uci\n",
    "\n",
    "play_game(random_player, human_player)"
   ]
  },
  {
   "cell_type": "code",
   "execution_count": 27,
   "metadata": {},
   "outputs": [
    {
     "name": "stdout",
     "output_type": "stream",
     "text": [
      "{None: 1, True: 0, False: 0}\n",
      "{None: 1, True: 0, False: 1}\n",
      "{None: 2, True: 0, False: 1}\n",
      "{None: 2, True: 0, False: 2}\n",
      "{None: 2, True: 1, False: 2}\n",
      "{None: 3, True: 1, False: 2}\n",
      "{None: 4, True: 1, False: 2}\n",
      "{None: 5, True: 1, False: 2}\n",
      "{None: 6, True: 1, False: 2}\n",
      "{None: 7, True: 1, False: 2}\n"
     ]
    },
    {
     "data": {
      "text/plain": [
       "{None: 7, True: 1, False: 2}"
      ]
     },
     "execution_count": 27,
     "metadata": {},
     "output_type": "execute_result"
    }
   ],
   "source": [
    "counts = {None: 0, True: 0, False: 0}\n",
    "for i in range(10):\n",
    "    result, msg, board = play_game(random_player, random_player, visual=None)\n",
    "    counts[result] += 1\n",
    "    print(counts)\n",
    "counts"
   ]
  },
  {
   "cell_type": "code",
   "execution_count": 32,
   "metadata": {},
   "outputs": [],
   "source": [
    "def player1(board):\n",
    "    moves = list(board.legal_moves)\n",
    "    for move in moves:\n",
    "        newboard = board.copy()\n",
    "        move.score = staticAnalysis(newboard, move, board.turn)\n",
    "    moves.sort(key=lambda move: move.score, reverse = True)\n",
    "    return moves[0].uci()\n",
    "\n",
    "board = chess.Board()\n",
    "board.pieces(chess.ROOK, True)\n",
    "\n",
    "list(board.pieces(chess.ROOK, True))\n",
    "len(board.pieces(chess.ROOK, True))\n",
    "\n",
    "def staticAnalysis(board, move, my_color):\n",
    "    score = random.random()\n",
    "    ## Check some things about this move:\n",
    "    # score += 10 if board.is_capture(move) else 0\n",
    "    # To actually make the move:\n",
    "    board.push(move)\n",
    "    # Now check some other things:\n",
    "    for (piece, value) in [(chess.PAWN, 1), \n",
    "                           (chess.BISHOP, 4), \n",
    "                           (chess.KING, 0), \n",
    "                           (chess.QUEEN, 10), \n",
    "                           (chess.KNIGHT, 5),\n",
    "                           (chess.ROOK, 3)]:\n",
    "        score += len(board.pieces(piece, my_color)) * value\n",
    "        score -= len(board.pieces(piece, not my_color)) * value\n",
    "        # can also check things about the pieces position here\n",
    "    # Check global things about the board\n",
    "    score += 100 if board.is_checkmate() else 0\n",
    "    return score\n",
    "\n",
    "    play_game(player1, random_player)"
   ]
  },
  {
   "cell_type": "code",
   "execution_count": 35,
   "metadata": {},
   "outputs": [],
   "source": [
    "def pawnPromotionAnalysis(board, move, my_color):\n",
    "    score = random.random()\n",
    "\n",
    "    board.push(move)\n",
    "\n",
    "    promotion_bonus = 50  \n",
    "\n",
    "    back_rank = chess.BB_RANK_8 if my_color == chess.WHITE else chess.BB_RANK_1\n",
    "    for square in chess.SquareSet(back_rank):\n",
    "        piece = board.piece_at(square)\n",
    "        if piece and piece.color == my_color and piece.piece_type == chess.QUEEN:\n",
    "            score += promotion_bonus\n",
    "\n",
    "    return score\n",
    "    play_game(player1, random_player)"
   ]
  }
 ],
 "metadata": {
  "kernelspec": {
   "display_name": "Python 3",
   "language": "python",
   "name": "python3"
  },
  "language_info": {
   "codemirror_mode": {
    "name": "ipython",
    "version": 3
   },
   "file_extension": ".py",
   "mimetype": "text/x-python",
   "name": "python",
   "nbconvert_exporter": "python",
   "pygments_lexer": "ipython3",
   "version": "3.9.6"
  }
 },
 "nbformat": 4,
 "nbformat_minor": 2
}
